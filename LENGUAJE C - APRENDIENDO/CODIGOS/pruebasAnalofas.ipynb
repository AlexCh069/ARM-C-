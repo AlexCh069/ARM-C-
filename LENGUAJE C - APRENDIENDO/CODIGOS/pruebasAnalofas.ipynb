{
 "cells": [
  {
   "cell_type": "code",
   "execution_count": 1,
   "metadata": {},
   "outputs": [
    {
     "name": "stdout",
     "output_type": "stream",
     "text": [
      "0 --> -17.77777777777778\n",
      "15 --> -9.444444444444445\n",
      "30 --> -1.1111111111111112\n",
      "45 --> 7.222222222222222\n",
      "60 --> 15.555555555555555\n",
      "75 --> 23.88888888888889\n",
      "90 --> 32.22222222222222\n",
      "105 --> 40.55555555555556\n",
      "120 --> 48.888888888888886\n",
      "135 --> 57.22222222222222\n",
      "150 --> 65.55555555555556\n",
      "165 --> 73.88888888888889\n",
      "180 --> 82.22222222222223\n",
      "195 --> 90.55555555555556\n",
      "210 --> 98.88888888888889\n",
      "225 --> 107.22222222222223\n",
      "240 --> 115.55555555555556\n",
      "255 --> 123.88888888888889\n",
      "270 --> 132.22222222222223\n",
      "285 --> 140.55555555555554\n",
      "300 --> 148.88888888888889\n"
     ]
    }
   ],
   "source": [
    "lower = 0\n",
    "upper = 300\n",
    "step = 15\n",
    "\n",
    "fahr = lower\n",
    "while (fahr <= upper):\n",
    "    celsius = 5*(fahr-32)/9\n",
    "    print(f\"{fahr} --> {celsius}\")\n",
    "    fahr = fahr + step\n",
    "\n",
    "\n"
   ]
  }
 ],
 "metadata": {
  "kernelspec": {
   "display_name": "Python 3",
   "language": "python",
   "name": "python3"
  },
  "language_info": {
   "codemirror_mode": {
    "name": "ipython",
    "version": 3
   },
   "file_extension": ".py",
   "mimetype": "text/x-python",
   "name": "python",
   "nbconvert_exporter": "python",
   "pygments_lexer": "ipython3",
   "version": "3.12.0"
  }
 },
 "nbformat": 4,
 "nbformat_minor": 2
}
